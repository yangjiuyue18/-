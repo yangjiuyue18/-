{
 "cells": [
  {
   "cell_type": "code",
   "execution_count": 3,
   "outputs": [
    {
     "name": "stdout",
     "output_type": "stream",
     "text": [
      "姓名(имя и фамилия): Блеканов Иван Станиславович, 邮箱(адрес электронной почты): I.blekanov@spbu.ru\n",
      "姓名(имя и фамилия): Блеканов Иван Станиславович, 邮箱(адрес электронной почты): I.blekanov@spbu.ru\n",
      "姓名(имя и фамилия): Горбунов Владислав Игоревич, 邮箱(адрес электронной почты): v.gorbunov@spbu.ru\n",
      "姓名(имя и фамилия): Максимов Алексей Юрьевич, 邮箱(адрес электронной почты): a.maksimov@spbu.ru\n",
      "姓名(имя и фамилия): Малинина Мария Анатольевна, 邮箱(адрес электронной почты): m.malinina@spbu.ru\n",
      "姓名(имя и фамилия): Митрофанов Евгений Павлович, 邮箱(адрес электронной почты): e.mitrofanov@spbu.ru\n",
      "姓名(имя и фамилия): Митрофанова Ольга Александровна, 邮箱(адрес электронной почты): o.a.mitrofanova@spbu.ru\n",
      "姓名(имя и фамилия): Мишенин Алексей Николаевич, 邮箱(адрес электронной почты): a.mishenin@spbu.ru\n",
      "姓名(имя и фамилия): Овсянников Александр Дмитриевич, 邮箱(адрес электронной почты): a.ovsyannikov@spbu.ru\n",
      "姓名(имя и фамилия): Орехов Михаил Юрьевич, 邮箱(адрес электронной почты): m.orekhov@spbu.ru\n",
      "姓名(имя и фамилия): Охотников Антон Юрьевич, 邮箱(адрес электронной почты): a.okhotnikov@spbu.ru\n",
      "姓名(имя и фамилия): Печников Андрей Анатольевич, 邮箱(адрес электронной почты): a.pechnikov@spbu.ru\n",
      "姓名(имя и фамилия): Попова Светлана Владимировна, 邮箱(адрес электронной почты): s.popova@spbu.ru\n",
      "姓名(имя и фамилия): Сергеев Сергей Львович, 邮箱(адрес электронной почты): s.l.sergeev@spbu.ru\n",
      "姓名(имя и фамилия): Стученков Александр Борисович, 邮箱(адрес электронной почты): a.stuchenkov@spbu.ru\n",
      "姓名(имя и фамилия): Уланов Александр Владимирович, 邮箱(адрес электронной почты): a.ulanov@spbu.ru\n"
     ]
    }
   ],
   "source": [
    "from selenium import webdriver\n",
    "from selenium.webdriver.chrome.service import Service\n",
    "from selenium.webdriver.chrome.options import Options\n",
    "from lxml import etree\n",
    "import time\n",
    "import re\n",
    "\n",
    "chrome_options = Options()\n",
    "chrome_options.add_argument(\"--headless\")  # 启用无头模式\n",
    "chrome_options.add_argument(\"--disable-gpu\")  # 禁用GPU加速，某些情况下避免出现问题\n",
    "chrome_options.add_argument(\"--window-size=1920,1080\")  # 设置浏览器窗口大小\n",
    "\n",
    "chrome_driver_path = r'C:\\Users\\yty43\\.cache\\selenium\\chromedriver\\win64\\122.0.6261.94\\chromedriver.exe'\n",
    "\n",
    "service = Service(executable_path=chrome_driver_path)\n",
    "driver = webdriver.Chrome(service=service, options=chrome_options)\n",
    "\n",
    "url = \"https://apmath.spbu.ru/fakultet/kafedry/18-kafedra-tekhnologii-programmirovaniya\"\n",
    "\n",
    "driver.get(url)\n",
    "\n",
    "time.sleep(5)  # 暂停5秒，等待JavaScript加载\n",
    "\n",
    "page_source = driver.page_source\n",
    "\n",
    "tree = etree.HTML(page_source)\n",
    "\n",
    "p_tags = tree.xpath('/html/body/div[6]/div[2]/div/main/article//p')\n",
    "\n",
    "for p in p_tags:\n",
    "    \n",
    "    name = p.xpath(\".//strong/text()\")\n",
    "    \n",
    "    email_links = p.xpath(\".//span/a[contains(@href, 'mailto:')]/@href\")\n",
    "    \n",
    "    email_addresses = [re.sub(r'^mailto:', '', email) for email in email_links]\n",
    "    \n",
    "    if name and email_addresses:\n",
    "        print(f\"姓名(имя и фамилия): {name[0]}, 邮箱(адрес электронной почты): {', '.join(email_addresses)}\")\n",
    "    \n",
    "driver.quit()"
   ],
   "metadata": {
    "collapsed": false,
    "ExecuteTime": {
     "end_time": "2024-03-03T20:11:58.992017600Z",
     "start_time": "2024-03-03T20:11:46.094780900Z"
    }
   },
   "id": "5642ac65249a597d"
  },
  {
   "cell_type": "markdown",
   "source": [],
   "metadata": {
    "collapsed": false
   },
   "id": "95d72fe29f690b52"
  }
 ],
 "metadata": {
  "kernelspec": {
   "display_name": "Python 3",
   "language": "python",
   "name": "python3"
  },
  "language_info": {
   "codemirror_mode": {
    "name": "ipython",
    "version": 2
   },
   "file_extension": ".py",
   "mimetype": "text/x-python",
   "name": "python",
   "nbconvert_exporter": "python",
   "pygments_lexer": "ipython2",
   "version": "3.11.8"
  }
 },
 "nbformat": 4,
 "nbformat_minor": 5
}
